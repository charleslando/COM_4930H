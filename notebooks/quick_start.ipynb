{
  "cells": [
    {
      "cell_type": "markdown",
      "id": "6eea21b3",
      "metadata": {
        "id": "6eea21b3"
      },
      "source": [
        "[![Open in Colab](https://colab.research.google.com/assets/colab-badge.svg)](https://colab.research.google.com/github/google/flax/blob/main/docs/quick_start.ipynb)\n",
        "[![Open On GitHub](https://img.shields.io/badge/Open-on%20GitHub-blue?logo=GitHub)](https://github.com/google/flax/blob/main/docs/quick_start.ipynb)\n",
        "\n",
        "# Quick start\n",
        "\n",
        "Welcome to Flax!\n",
        "\n",
        "Flax is an open source Python neural network library built on top of [JAX](https://github.com/google/jax). This tutorial demonstrates how to construct a simple convolutional neural\n",
        "network (CNN) using the [Flax](https://flax.readthedocs.io) Linen API and train\n",
        "the network for image classification on the MNIST dataset."
      ]
    },
    {
      "cell_type": "markdown",
      "id": "nwJWKIhdwxDo",
      "metadata": {
        "id": "nwJWKIhdwxDo"
      },
      "source": [
        "## 1. Install Flax"
      ]
    },
    {
      "cell_type": "code",
      "execution_count": 1,
      "id": "bb81587e",
      "metadata": {
        "tags": [
          "skip-execution"
        ],
        "id": "bb81587e"
      },
      "outputs": [],
      "source": [
        "!pip install -q flax>=0.7.5"
      ]
    },
    {
      "cell_type": "markdown",
      "id": "b529fbef",
      "metadata": {
        "id": "b529fbef"
      },
      "source": [
        "## 2. Loading data\n",
        "\n",
        "Flax can use any\n",
        "data-loading pipeline and this example demonstrates how to utilize TFDS. Define a function that loads and prepares the MNIST dataset and converts the\n",
        "samples to floating-point numbers."
      ]
    },
    {
      "cell_type": "code",
      "execution_count": 2,
      "id": "bRlrHqZVXZvk",
      "metadata": {
        "id": "bRlrHqZVXZvk"
      },
      "outputs": [],
      "source": [
        "import tensorflow_datasets as tfds  # TFDS for MNIST\n",
        "import tensorflow as tf             # TensorFlow operations\n",
        "\n",
        "def get_datasets(num_epochs, batch_size):\n",
        "  \"\"\"Load MNIST train and test datasets into memory.\"\"\"\n",
        "  train_ds = tfds.load('mnist', split='train')\n",
        "  test_ds = tfds.load('mnist', split='test')\n",
        "\n",
        "  train_ds = train_ds.map(lambda sample: {'image': tf.cast(sample['image'],\n",
        "                                                           tf.float32) / 255.,\n",
        "                                          'label': sample['label']}) # normalize train set\n",
        "  test_ds = test_ds.map(lambda sample: {'image': tf.cast(sample['image'],\n",
        "                                                         tf.float32) / 255.,\n",
        "                                        'label': sample['label']}) # normalize test set\n",
        "\n",
        "  train_ds = train_ds.repeat(num_epochs).shuffle(1024) # create shuffled dataset by allocating a buffer size of 1024 to randomly draw elements from\n",
        "  train_ds = train_ds.batch(batch_size, drop_remainder=True).prefetch(1) # group into batches of batch_size and skip incomplete batch, prefetch the next sample to improve latency\n",
        "  test_ds = test_ds.shuffle(1024) # create shuffled dataset by allocating a buffer size of 1024 to randomly draw elements from\n",
        "  test_ds = test_ds.batch(batch_size, drop_remainder=True).prefetch(1) # group into batches of batch_size and skip incomplete batch, prefetch the next sample to improve latency\n",
        "\n",
        "  return train_ds, test_ds"
      ]
    },
    {
      "cell_type": "markdown",
      "id": "7057395a",
      "metadata": {
        "id": "7057395a"
      },
      "source": [
        "## 3. Define network\n",
        "\n",
        "Create a convolutional neural network with the Linen API by subclassing\n",
        "[Flax Module](https://flax.readthedocs.io/en/latest/api_reference/flax.linen/module.html).\n",
        "Because the architecture in this example is relatively simple—you're just\n",
        "stacking layers—you can define the inlined submodules directly within the\n",
        "`__call__` method and wrap it with the\n",
        "[`@compact`](https://flax.readthedocs.io/en/latest/api_reference/flax.linen/decorators.html#flax.linen.compact)\n",
        "decorator. To learn more about the Flax Linen `@compact` decorator, refer to the [`setup` vs `compact`](https://flax.readthedocs.io/en/latest/guides/setup_or_nncompact.html) guide."
      ]
    },
    {
      "cell_type": "code",
      "execution_count": 3,
      "id": "cbc079cd",
      "metadata": {
        "id": "cbc079cd"
      },
      "outputs": [],
      "source": [
        "from flax import linen as nn  # Linen API\n",
        "\n",
        "class CNN(nn.Module):\n",
        "  \"\"\"A simple CNN model.\"\"\"\n",
        "\n",
        "  @nn.compact\n",
        "  def __call__(self, x):\n",
        "    x = nn.Conv(features=32, kernel_size=(3, 3))(x)\n",
        "    x = nn.relu(x)\n",
        "    x = nn.avg_pool(x, window_shape=(2, 2), strides=(2, 2))\n",
        "    x = nn.Conv(features=64, kernel_size=(3, 3))(x)\n",
        "    x = nn.relu(x)\n",
        "    x = nn.avg_pool(x, window_shape=(2, 2), strides=(2, 2))\n",
        "    x = x.reshape((x.shape[0], -1))  # flatten\n",
        "    x = nn.Dense(features=256)(x)\n",
        "    x = nn.relu(x)\n",
        "    x = nn.Dense(features=10)(x)\n",
        "    return x"
      ]
    },
    {
      "cell_type": "markdown",
      "id": "hy7iRu7_zlx-",
      "metadata": {
        "id": "hy7iRu7_zlx-"
      },
      "source": [
        "### View model layers\n",
        "\n",
        "Create an instance of the Flax Module and use the [`Module.tabulate`](https://flax.readthedocs.io/en/latest/api_reference/flax.linen/module.html#flax.linen.Module.tabulate) method to visualize a table of the model layers by passing an RNG key and template image input."
      ]
    },
    {
      "cell_type": "code",
      "execution_count": 4,
      "id": "lDHfog81zLQa",
      "metadata": {
        "outputId": "e4b0029a-dc83-430d-b382-5c8b240ceb59",
        "id": "lDHfog81zLQa",
        "colab": {
          "base_uri": "https://localhost:8080/"
        }
      },
      "outputs": [
        {
          "output_type": "stream",
          "name": "stdout",
          "text": [
            "\n",
            "\u001b[3m                                            CNN Summary                                             \u001b[0m\n",
            "┏━━━━━━━━━┳━━━━━━━━┳━━━━━━━━━━━━━━━━━━┳━━━━━━━━━━━━━━━━━━━┳━━━━━━━━━┳━━━━━━━━━━━┳━━━━━━━━━━━━━━━━━━┓\n",
            "┃\u001b[1m \u001b[0m\u001b[1mpath   \u001b[0m\u001b[1m \u001b[0m┃\u001b[1m \u001b[0m\u001b[1mmodule\u001b[0m\u001b[1m \u001b[0m┃\u001b[1m \u001b[0m\u001b[1minputs          \u001b[0m\u001b[1m \u001b[0m┃\u001b[1m \u001b[0m\u001b[1moutputs          \u001b[0m\u001b[1m \u001b[0m┃\u001b[1m \u001b[0m\u001b[1mflops  \u001b[0m\u001b[1m \u001b[0m┃\u001b[1m \u001b[0m\u001b[1mvjp_flops\u001b[0m\u001b[1m \u001b[0m┃\u001b[1m \u001b[0m\u001b[1mparams          \u001b[0m\u001b[1m \u001b[0m┃\n",
            "┡━━━━━━━━━╇━━━━━━━━╇━━━━━━━━━━━━━━━━━━╇━━━━━━━━━━━━━━━━━━━╇━━━━━━━━━╇━━━━━━━━━━━╇━━━━━━━━━━━━━━━━━━┩\n",
            "│         │ CNN    │ \u001b[2mfloat32\u001b[0m[1,28,28… │ \u001b[2mfloat32\u001b[0m[1,10]     │ 8708106 │ 26957556  │                  │\n",
            "├─────────┼────────┼──────────────────┼───────────────────┼─────────┼───────────┼──────────────────┤\n",
            "│ Conv_0  │ Conv   │ \u001b[2mfloat32\u001b[0m[1,28,28… │ \u001b[2mfloat32\u001b[0m[1,28,28,… │ 455424  │ 1341472   │ bias:            │\n",
            "│         │        │                  │                   │         │           │ \u001b[2mfloat32\u001b[0m[32]      │\n",
            "│         │        │                  │                   │         │           │ kernel:          │\n",
            "│         │        │                  │                   │         │           │ \u001b[2mfloat32\u001b[0m[3,3,1,3… │\n",
            "│         │        │                  │                   │         │           │                  │\n",
            "│         │        │                  │                   │         │           │ \u001b[1m320 \u001b[0m\u001b[1;2m(1.3 KB)\u001b[0m     │\n",
            "├─────────┼────────┼──────────────────┼───────────────────┼─────────┼───────────┼──────────────────┤\n",
            "│ Conv_1  │ Conv   │ \u001b[2mfloat32\u001b[0m[1,14,14… │ \u001b[2mfloat32\u001b[0m[1,14,14,… │ 6566144 │ 19704320  │ bias:            │\n",
            "│         │        │                  │                   │         │           │ \u001b[2mfloat32\u001b[0m[64]      │\n",
            "│         │        │                  │                   │         │           │ kernel:          │\n",
            "│         │        │                  │                   │         │           │ \u001b[2mfloat32\u001b[0m[3,3,32,… │\n",
            "│         │        │                  │                   │         │           │                  │\n",
            "│         │        │                  │                   │         │           │ \u001b[1m18,496 \u001b[0m\u001b[1;2m(74.0 KB)\u001b[0m │\n",
            "├─────────┼────────┼──────────────────┼───────────────────┼─────────┼───────────┼──────────────────┤\n",
            "│ Dense_0 │ Dense  │ \u001b[2mfloat32\u001b[0m[1,3136]  │ \u001b[2mfloat32\u001b[0m[1,256]    │ 1605888 │ 5620224   │ bias:            │\n",
            "│         │        │                  │                   │         │           │ \u001b[2mfloat32\u001b[0m[256]     │\n",
            "│         │        │                  │                   │         │           │ kernel:          │\n",
            "│         │        │                  │                   │         │           │ \u001b[2mfloat32\u001b[0m[3136,25… │\n",
            "│         │        │                  │                   │         │           │                  │\n",
            "│         │        │                  │                   │         │           │ \u001b[1m803,072 \u001b[0m\u001b[1;2m(3.2 MB)\u001b[0m │\n",
            "├─────────┼────────┼──────────────────┼───────────────────┼─────────┼───────────┼──────────────────┤\n",
            "│ Dense_1 │ Dense  │ \u001b[2mfloat32\u001b[0m[1,256]   │ \u001b[2mfloat32\u001b[0m[1,10]     │ 5130    │ 17940     │ bias:            │\n",
            "│         │        │                  │                   │         │           │ \u001b[2mfloat32\u001b[0m[10]      │\n",
            "│         │        │                  │                   │         │           │ kernel:          │\n",
            "│         │        │                  │                   │         │           │ \u001b[2mfloat32\u001b[0m[256,10]  │\n",
            "│         │        │                  │                   │         │           │                  │\n",
            "│         │        │                  │                   │         │           │ \u001b[1m2,570 \u001b[0m\u001b[1;2m(10.3 KB)\u001b[0m  │\n",
            "├─────────┼────────┼──────────────────┼───────────────────┼─────────┼───────────┼──────────────────┤\n",
            "│\u001b[1m \u001b[0m\u001b[1m       \u001b[0m\u001b[1m \u001b[0m│\u001b[1m \u001b[0m\u001b[1m      \u001b[0m\u001b[1m \u001b[0m│\u001b[1m \u001b[0m\u001b[1m                \u001b[0m\u001b[1m \u001b[0m│\u001b[1m \u001b[0m\u001b[1m                 \u001b[0m\u001b[1m \u001b[0m│\u001b[1m \u001b[0m\u001b[1m       \u001b[0m\u001b[1m \u001b[0m│\u001b[1m \u001b[0m\u001b[1m    Total\u001b[0m\u001b[1m \u001b[0m│\u001b[1m \u001b[0m\u001b[1m824,458 \u001b[0m\u001b[1;2m(3.3 MB)\u001b[0m\u001b[1m \u001b[0m│\n",
            "└─────────┴────────┴──────────────────┴───────────────────┴─────────┴───────────┴──────────────────┘\n",
            "\u001b[1m                                                                                                    \u001b[0m\n",
            "\u001b[1m                                 Total Parameters: 824,458 \u001b[0m\u001b[1;2m(3.3 MB)\u001b[0m\u001b[1m                                 \u001b[0m\n",
            "\n",
            "\n"
          ]
        }
      ],
      "source": [
        "import jax\n",
        "import jax.numpy as jnp  # JAX NumPy\n",
        "\n",
        "cnn = CNN()\n",
        "print(cnn.tabulate(jax.random.key(0), jnp.ones((1, 28, 28, 1)),\n",
        "                   compute_flops=True, compute_vjp_flops=True))"
      ]
    },
    {
      "cell_type": "markdown",
      "id": "4b5ac16e",
      "metadata": {
        "id": "4b5ac16e"
      },
      "source": [
        "## 4. Create a `TrainState`\n",
        "\n",
        "A common pattern in Flax is to create a single dataclass that represents the\n",
        "entire training state, including step number, parameters, and optimizer state.\n",
        "\n",
        "Because this is such a common pattern, Flax provides the class\n",
        "[`flax.training.train_state.TrainState`](https://flax.readthedocs.io/en/latest/flax.training.html#train-state)\n",
        "that serves most basic usecases."
      ]
    },
    {
      "cell_type": "code",
      "execution_count": 5,
      "id": "qXr7JDpIxGNZ",
      "metadata": {
        "outputId": "17936ca2-64f8-4d49-fc2e-066089b2e40d",
        "id": "qXr7JDpIxGNZ",
        "colab": {
          "base_uri": "https://localhost:8080/"
        }
      },
      "outputs": [
        {
          "output_type": "stream",
          "name": "stdout",
          "text": [
            "\u001b[?25l     \u001b[90m━━━━━━━━━━━━━━━━━━━━━━━━━━━━━━━━━━━━━━━━\u001b[0m \u001b[32m0.0/77.9 kB\u001b[0m \u001b[31m?\u001b[0m eta \u001b[36m-:--:--\u001b[0m\r\u001b[2K     \u001b[90m━━━━━━━━━━━━━━━━━━━━━━━━━━━━━━━━━━━━━━━━\u001b[0m \u001b[32m77.9/77.9 kB\u001b[0m \u001b[31m3.3 MB/s\u001b[0m eta \u001b[36m0:00:00\u001b[0m\n",
            "\u001b[?25h  Preparing metadata (setup.py) ... \u001b[?25l\u001b[?25hdone\n",
            "\u001b[2K   \u001b[90m━━━━━━━━━━━━━━━━━━━━━━━━━━━━━━━━━━━━━━━━\u001b[0m \u001b[32m101.8/101.8 kB\u001b[0m \u001b[31m5.3 MB/s\u001b[0m eta \u001b[36m0:00:00\u001b[0m\n",
            "\u001b[?25h  Building wheel for ml-collections (setup.py) ... \u001b[?25l\u001b[?25hdone\n"
          ]
        }
      ],
      "source": [
        "!pip install -q clu"
      ]
    },
    {
      "cell_type": "code",
      "execution_count": 6,
      "id": "CJDaJNijyOji",
      "metadata": {
        "id": "CJDaJNijyOji"
      },
      "outputs": [],
      "source": [
        "from clu import metrics\n",
        "from flax.training import train_state  # Useful dataclass to keep train state\n",
        "from flax import struct                # Flax dataclasses\n",
        "import optax                           # Common loss functions and optimizers"
      ]
    },
    {
      "cell_type": "markdown",
      "id": "8b86b5f1",
      "metadata": {
        "id": "8b86b5f1"
      },
      "source": [
        "We will be using the `clu` library for computing metrics. For more information on `clu`, refer to the [repo](https://github.com/google/CommonLoopUtils) and [notebook](https://colab.research.google.com/github/google/CommonLoopUtils/blob/master/clu_synopsis.ipynb#scrollTo=ueom-uBWLbeQ)."
      ]
    },
    {
      "cell_type": "code",
      "execution_count": 7,
      "id": "7W0qf7FC9uG5",
      "metadata": {
        "id": "7W0qf7FC9uG5"
      },
      "outputs": [],
      "source": [
        "@struct.dataclass\n",
        "class Metrics(metrics.Collection):\n",
        "  accuracy: metrics.Accuracy\n",
        "  loss: metrics.Average.from_output('loss')"
      ]
    },
    {
      "cell_type": "markdown",
      "id": "f3ce5e4c",
      "metadata": {
        "id": "f3ce5e4c"
      },
      "source": [
        "You can then subclass `train_state.TrainState` so that it also contains metrics. This has the advantage that we only need\n",
        "to pass around a single argument to functions like `train_step()` (see below) to calculate the loss, update the parameters and compute the metrics all at once."
      ]
    },
    {
      "cell_type": "code",
      "execution_count": 8,
      "id": "e0102447",
      "metadata": {
        "id": "e0102447"
      },
      "outputs": [],
      "source": [
        "class TrainState(train_state.TrainState):\n",
        "  metrics: Metrics\n",
        "\n",
        "def create_train_state(module, rng, learning_rate, momentum):\n",
        "  \"\"\"Creates an initial `TrainState`.\"\"\"\n",
        "  params = module.init(rng, jnp.ones([1, 28, 28, 1]))['params'] # initialize parameters by passing a template image\n",
        "  tx = optax.sgd(learning_rate, momentum)\n",
        "  return TrainState.create(\n",
        "      apply_fn=module.apply, params=params, tx=tx,\n",
        "      metrics=Metrics.empty())"
      ]
    },
    {
      "cell_type": "markdown",
      "id": "a15de484",
      "metadata": {
        "id": "a15de484"
      },
      "source": [
        "## 5. Training step\n",
        "\n",
        "A function that:\n",
        "\n",
        "- Evaluates the neural network given the parameters and a batch of input images\n",
        "  with [`TrainState.apply_fn`](https://flax.readthedocs.io/en/latest/api_reference/flax.training.html#flax.training.train_state.TrainState) (which contains the [`Module.apply`](https://flax.readthedocs.io/en/latest/api_reference/flax.linen/module.html#flax.linen.Module.apply)\n",
        "  method (forward pass)).\n",
        "- Computes the cross entropy loss, using the predefined [`optax.softmax_cross_entropy_with_integer_labels()`](https://optax.readthedocs.io/en/latest/api.html#optax.softmax_cross_entropy_with_integer_labels). Note that this function expects integer labels, so there is no need to convert labels to onehot encoding.\n",
        "- Evaluates the gradient of the loss function using\n",
        "  [`jax.grad`](https://jax.readthedocs.io/en/latest/jax.html#jax.grad).\n",
        "- Applies a\n",
        "  [pytree](https://jax.readthedocs.io/en/latest/pytrees.html#pytrees-and-jax-functions)\n",
        "  of gradients to the optimizer to update the model's parameters.\n",
        "\n",
        "Use JAX's [@jit](https://jax.readthedocs.io/en/latest/jax.html#jax.jit)\n",
        "decorator to trace the entire `train_step` function and just-in-time compile\n",
        "it with [XLA](https://www.tensorflow.org/xla) into fused device operations\n",
        "that run faster and more efficiently on hardware accelerators."
      ]
    },
    {
      "cell_type": "code",
      "execution_count": 9,
      "id": "9b0af486",
      "metadata": {
        "id": "9b0af486"
      },
      "outputs": [],
      "source": [
        "@jax.jit\n",
        "def train_step(state, batch):\n",
        "  \"\"\"Train for a single step.\"\"\"\n",
        "  def loss_fn(params):\n",
        "    logits = state.apply_fn({'params': params}, batch['image'])\n",
        "    loss = optax.softmax_cross_entropy_with_integer_labels(\n",
        "        logits=logits, labels=batch['label']).mean()\n",
        "    return loss\n",
        "  grad_fn = jax.grad(loss_fn)\n",
        "  grads = grad_fn(state.params)\n",
        "  state = state.apply_gradients(grads=grads)\n",
        "  return state"
      ]
    },
    {
      "cell_type": "markdown",
      "id": "0ff5145f",
      "metadata": {
        "id": "0ff5145f"
      },
      "source": [
        "## 6. Metric computation\n",
        "\n",
        "Create a separate function for loss and accuracy metrics. Loss is calculated using the `optax.softmax_cross_entropy_with_integer_labels` function, while accuracy is calculated using `clu.metrics`."
      ]
    },
    {
      "cell_type": "code",
      "execution_count": 10,
      "id": "961bf70b",
      "metadata": {
        "id": "961bf70b"
      },
      "outputs": [],
      "source": [
        "@jax.jit\n",
        "def compute_metrics(*, state, batch):\n",
        "  logits = state.apply_fn({'params': state.params}, batch['image'])\n",
        "  loss = optax.softmax_cross_entropy_with_integer_labels(\n",
        "        logits=logits, labels=batch['label']).mean()\n",
        "  metric_updates = state.metrics.single_from_model_output(\n",
        "    logits=logits, labels=batch['label'], loss=loss)\n",
        "  metrics = state.metrics.merge(metric_updates)\n",
        "  state = state.replace(metrics=metrics)\n",
        "  return state"
      ]
    },
    {
      "cell_type": "markdown",
      "id": "497241c3",
      "metadata": {
        "id": "497241c3"
      },
      "source": [
        "## 7. Download data"
      ]
    },
    {
      "cell_type": "code",
      "execution_count": 11,
      "id": "bff5393e",
      "metadata": {
        "id": "bff5393e",
        "outputId": "8c6b5804-0a70-4ce1-c9ac-6e7cfbcb4feb",
        "colab": {
          "base_uri": "https://localhost:8080/",
          "height": 84,
          "referenced_widgets": [
            "2f573fca3ec040f199a3bc24b95af9fa",
            "b6eb89f80c5e4b67b161083527785211",
            "f82df1fafe4541f38353c64fc4c74d1f",
            "f1e0e3f42b764b8bac65b26f5f8116e0",
            "115021e30f814d1ead6d942c70a49e71",
            "f7bc61a52c404653947528dd536acebd",
            "ba3b8375a3b742aeb222aa95905ed55f",
            "234a9ea288ce413dae0561fac5ae2363",
            "3bd7ac0b3375477bb5c587f0248a3f60",
            "caa286ce65b24198b3c09b6c0955c752",
            "d49bbf5a4cc8454f87ed73939e022836"
          ]
        }
      },
      "outputs": [
        {
          "output_type": "stream",
          "name": "stdout",
          "text": [
            "Downloading and preparing dataset 11.06 MiB (download: 11.06 MiB, generated: 21.00 MiB, total: 32.06 MiB) to /root/tensorflow_datasets/mnist/3.0.1...\n"
          ]
        },
        {
          "output_type": "display_data",
          "data": {
            "text/plain": [
              "Dl Completed...:   0%|          | 0/5 [00:00<?, ? file/s]"
            ],
            "application/vnd.jupyter.widget-view+json": {
              "version_major": 2,
              "version_minor": 0,
              "model_id": "2f573fca3ec040f199a3bc24b95af9fa"
            }
          },
          "metadata": {}
        },
        {
          "output_type": "stream",
          "name": "stdout",
          "text": [
            "Dataset mnist downloaded and prepared to /root/tensorflow_datasets/mnist/3.0.1. Subsequent calls will reuse this data.\n"
          ]
        }
      ],
      "source": [
        "num_epochs = 10\n",
        "batch_size = 32\n",
        "\n",
        "train_ds, test_ds = get_datasets(num_epochs, batch_size)"
      ]
    },
    {
      "cell_type": "markdown",
      "id": "809ae1a0",
      "metadata": {
        "id": "809ae1a0"
      },
      "source": [
        "## 8. Seed randomness\n",
        "\n",
        "- Set the TF random seed to ensure dataset shuffling (with `tf.data.Dataset.shuffle`) is reproducible.\n",
        "- Get one\n",
        "  [PRNGKey](https://jax.readthedocs.io/en/latest/_autosummary/jax.random.PRNGKey.html#jax.random.PRNGKey)\n",
        "  and use it for parameter initialization. (Learn\n",
        "  more about\n",
        "  [JAX PRNG design](https://jax.readthedocs.io/en/latest/jax-101/05-random-numbers.html)\n",
        "  and [PRNG chains](https://flax.readthedocs.io/en/latest/philosophy.html#how-are-parameters-represented-and-how-do-we-handle-general-differentiable-algorithms-that-update-stateful-variables).)"
      ]
    },
    {
      "cell_type": "code",
      "execution_count": 12,
      "id": "xC4MFyBsfT-U",
      "metadata": {
        "id": "xC4MFyBsfT-U"
      },
      "outputs": [],
      "source": [
        "tf.random.set_seed(0)"
      ]
    },
    {
      "cell_type": "code",
      "execution_count": 13,
      "id": "e4f6f4d3",
      "metadata": {
        "id": "e4f6f4d3"
      },
      "outputs": [],
      "source": [
        "init_rng = jax.random.key(0)"
      ]
    },
    {
      "cell_type": "markdown",
      "id": "80fbb60b",
      "metadata": {
        "id": "80fbb60b"
      },
      "source": [
        "## 9. Initialize the `TrainState`\n",
        "\n",
        "Remember that the function `create_train_state` initializes the model parameters, optimizer and metrics\n",
        "and puts them into the training state dataclass that is returned."
      ]
    },
    {
      "cell_type": "code",
      "execution_count": 14,
      "id": "445fcab0",
      "metadata": {
        "id": "445fcab0"
      },
      "outputs": [],
      "source": [
        "learning_rate = 0.01\n",
        "momentum = 0.9"
      ]
    },
    {
      "cell_type": "code",
      "execution_count": 15,
      "id": "5221eafd",
      "metadata": {
        "id": "5221eafd"
      },
      "outputs": [],
      "source": [
        "state = create_train_state(cnn, init_rng, learning_rate, momentum)\n",
        "del init_rng  # Must not be used anymore."
      ]
    },
    {
      "cell_type": "markdown",
      "id": "b1c00230",
      "metadata": {
        "id": "b1c00230"
      },
      "source": [
        "## 10. Train and evaluate\n",
        "\n",
        "Create a \"shuffled\" dataset by:\n",
        "- Repeating the dataset equal to the number of training epochs\n",
        "- Allocating a buffer of size 1024 (containing the first 1024 samples in the dataset) of which to randomly sample batches from\n",
        "  - Everytime a sample is randomly drawn from the buffer, the next sample in the dataset is loaded into the buffer\n",
        "\n",
        "Define a training loop that:\n",
        "- Randomly samples batches from the dataset.\n",
        "- Runs an optimization step for each training batch.\n",
        "- Computes the mean training metrics across each batch in an epoch.\n",
        "- Computes the metrics for the test set using the updated parameters.\n",
        "- Records the train and test metrics for visualization.\n",
        "\n",
        "Once the training and testing is done after 10 epochs, the output should show that your model was able to achieve approximately 99% accuracy."
      ]
    },
    {
      "cell_type": "code",
      "execution_count": 16,
      "id": "74295360",
      "metadata": {
        "id": "74295360"
      },
      "outputs": [],
      "source": [
        "# since train_ds is replicated num_epochs times in get_datasets(), we divide by num_epochs\n",
        "num_steps_per_epoch = train_ds.cardinality().numpy() // num_epochs"
      ]
    },
    {
      "cell_type": "code",
      "execution_count": 17,
      "id": "cRtnMZuQFlKl",
      "metadata": {
        "id": "cRtnMZuQFlKl"
      },
      "outputs": [],
      "source": [
        "metrics_history = {'train_loss': [],\n",
        "                   'train_accuracy': [],\n",
        "                   'test_loss': [],\n",
        "                   'test_accuracy': []}"
      ]
    },
    {
      "cell_type": "code",
      "execution_count": 19,
      "id": "2c40ce90",
      "metadata": {
        "outputId": "8084f52c-4c1a-43b2-b596-a25cd3811e9b",
        "id": "2c40ce90",
        "colab": {
          "base_uri": "https://localhost:8080/",
          "height": 245
        }
      },
      "outputs": [
        {
          "output_type": "error",
          "ename": "KeyboardInterrupt",
          "evalue": "",
          "traceback": [
            "\u001b[0;31m---------------------------------------------------------------------------\u001b[0m",
            "\u001b[0;31mKeyboardInterrupt\u001b[0m                         Traceback (most recent call last)",
            "\u001b[0;32m<ipython-input-19-905253282df9>\u001b[0m in \u001b[0;36m<cell line: 1>\u001b[0;34m()\u001b[0m\n\u001b[1;32m      3\u001b[0m   \u001b[0;31m# Run optimization steps over training batches and compute batch metrics\u001b[0m\u001b[0;34m\u001b[0m\u001b[0;34m\u001b[0m\u001b[0m\n\u001b[1;32m      4\u001b[0m   \u001b[0mstate\u001b[0m \u001b[0;34m=\u001b[0m \u001b[0mtrain_step\u001b[0m\u001b[0;34m(\u001b[0m\u001b[0mstate\u001b[0m\u001b[0;34m,\u001b[0m \u001b[0mbatch\u001b[0m\u001b[0;34m)\u001b[0m \u001b[0;31m# get updated train state (which contains the updated parameters)\u001b[0m\u001b[0;34m\u001b[0m\u001b[0;34m\u001b[0m\u001b[0m\n\u001b[0;32m----> 5\u001b[0;31m   \u001b[0mstate\u001b[0m \u001b[0;34m=\u001b[0m \u001b[0mcompute_metrics\u001b[0m\u001b[0;34m(\u001b[0m\u001b[0mstate\u001b[0m\u001b[0;34m=\u001b[0m\u001b[0mstate\u001b[0m\u001b[0;34m,\u001b[0m \u001b[0mbatch\u001b[0m\u001b[0;34m=\u001b[0m\u001b[0mbatch\u001b[0m\u001b[0;34m)\u001b[0m \u001b[0;31m# aggregate batch metrics\u001b[0m\u001b[0;34m\u001b[0m\u001b[0;34m\u001b[0m\u001b[0m\n\u001b[0m\u001b[1;32m      6\u001b[0m \u001b[0;34m\u001b[0m\u001b[0m\n\u001b[1;32m      7\u001b[0m   \u001b[0;32mif\u001b[0m \u001b[0;34m(\u001b[0m\u001b[0mstep\u001b[0m\u001b[0;34m+\u001b[0m\u001b[0;36m1\u001b[0m\u001b[0;34m)\u001b[0m \u001b[0;34m%\u001b[0m \u001b[0mnum_steps_per_epoch\u001b[0m \u001b[0;34m==\u001b[0m \u001b[0;36m0\u001b[0m\u001b[0;34m:\u001b[0m \u001b[0;31m# one training epoch has passed\u001b[0m\u001b[0;34m\u001b[0m\u001b[0;34m\u001b[0m\u001b[0m\n",
            "\u001b[0;32m<string>\u001b[0m in \u001b[0;36m<lambda>\u001b[0;34m(_cls, trace)\u001b[0m\n",
            "\u001b[0;31mKeyboardInterrupt\u001b[0m: "
          ]
        }
      ],
      "source": [
        "for step,batch in enumerate(train_ds.as_numpy_iterator()):\n",
        "\n",
        "  # Run optimization steps over training batches and compute batch metrics\n",
        "  state = train_step(state, batch) # get updated train state (which contains the updated parameters)\n",
        "  state = compute_metrics(state=state, batch=batch) # aggregate batch metrics\n",
        "\n",
        "  if (step+1) % num_steps_per_epoch == 0: # one training epoch has passed\n",
        "    for metric,value in state.metrics.compute().items(): # compute metrics\n",
        "      metrics_history[f'train_{metric}'].append(value) # record metrics\n",
        "    state = state.replace(metrics=state.metrics.empty()) # reset train_metrics for next training epoch\n",
        "\n",
        "    # Compute metrics on the test set after each training epoch\n",
        "    test_state = state\n",
        "    for test_batch in test_ds.as_numpy_iterator():\n",
        "      test_state = compute_metrics(state=test_state, batch=test_batch)\n",
        "\n",
        "    for metric,value in test_state.metrics.compute().items():\n",
        "      metrics_history[f'test_{metric}'].append(value)\n",
        "\n",
        "    print(f\"train epoch: {(step+1) // num_steps_per_epoch}, \"\n",
        "          f\"loss: {metrics_history['train_loss'][-1]}, \"\n",
        "          f\"accuracy: {metrics_history['train_accuracy'][-1] * 100}\")\n",
        "    print(f\"test epoch: {(step+1) // num_steps_per_epoch}, \"\n",
        "          f\"loss: {metrics_history['test_loss'][-1]}, \"\n",
        "          f\"accuracy: {metrics_history['test_accuracy'][-1] * 100}\")"
      ]
    },
    {
      "cell_type": "markdown",
      "id": "gfsecJzvzgCT",
      "metadata": {
        "id": "gfsecJzvzgCT"
      },
      "source": [
        "## 11. Visualize metrics"
      ]
    },
    {
      "cell_type": "code",
      "execution_count": 20,
      "id": "Zs5atiqIG9Kz",
      "metadata": {
        "outputId": "0c04afcd-df2d-4088-a07e-9011f1365eb5",
        "id": "Zs5atiqIG9Kz",
        "colab": {
          "base_uri": "https://localhost:8080/",
          "height": 485
        }
      },
      "outputs": [
        {
          "output_type": "display_data",
          "data": {
            "text/plain": [
              "<Figure size 1500x500 with 2 Axes>"
            ],
            "image/png": "[encoded data removed]"
          },
          "metadata": {}
        },
        {
          "output_type": "display_data",
          "data": {
            "text/plain": [
              "<Figure size 640x480 with 0 Axes>"
            ]
          },
          "metadata": {}
        }
      ],
      "source": [
        "import matplotlib.pyplot as plt  # Visualization\n",
        "\n",
        "# Plot loss and accuracy in subplots\n",
        "fig, (ax1, ax2) = plt.subplots(1, 2, figsize=(15, 5))\n",
        "ax1.set_title('Loss')\n",
        "ax2.set_title('Accuracy')\n",
        "for dataset in ('train','test'):\n",
        "  ax1.plot(metrics_history[f'{dataset}_loss'], label=f'{dataset}_loss')\n",
        "  ax2.plot(metrics_history[f'{dataset}_accuracy'], label=f'{dataset}_accuracy')\n",
        "ax1.legend()\n",
        "ax2.legend()\n",
        "plt.show()\n",
        "plt.clf()"
      ]
    },
    {
      "cell_type": "markdown",
      "id": "qQbKS0tV3sZ1",
      "metadata": {
        "id": "qQbKS0tV3sZ1"
      },
      "source": [
        "## 12. Perform inference on test set\n",
        "\n",
        "Define a jitted inference function `pred_step`. Use the learned parameters to do model inference on the test set and visualize the images and their corresponding predicted labels."
      ]
    },
    {
      "cell_type": "code",
      "execution_count": 21,
      "id": "DFwxgBQf44ks",
      "metadata": {
        "id": "DFwxgBQf44ks"
      },
      "outputs": [],
      "source": [
        "@jax.jit\n",
        "def pred_step(state, batch):\n",
        "  logits = state.apply_fn({'params': state.params}, test_batch['image'])\n",
        "  return logits.argmax(axis=1)\n",
        "\n",
        "test_batch = test_ds.as_numpy_iterator().next()\n",
        "pred = pred_step(state, test_batch)"
      ]
    },
    {
      "cell_type": "code",
      "execution_count": 22,
      "id": "5d5nF3u44JFI",
      "metadata": {
        "outputId": "6d06232e-220f-488d-aec5-7b5aaf40248a",
        "id": "5d5nF3u44JFI",
        "colab": {
          "base_uri": "https://localhost:8080/",
          "height": 983
        }
      },
      "outputs": [
        {
          "output_type": "display_data",
          "data": {
            "text/plain": [
              "<Figure size 1200x1200 with 25 Axes>"
            ],
            "image/png": "[encoded data removed]"
          },
          "metadata": {}
        }
      ],
      "source": [
        "fig, axs = plt.subplots(5, 5, figsize=(12, 12))\n",
        "for i, ax in enumerate(axs.flatten()):\n",
        "    ax.imshow(test_batch['image'][i, ..., 0], cmap='gray')\n",
        "    ax.set_title(f\"label={pred[i]}\")\n",
        "    ax.axis('off')"
      ]
    },
    {
      "cell_type": "markdown",
      "id": "edb528b6",
      "metadata": {
        "id": "edb528b6"
      },
      "source": [
        "Congratulations! You made it to the end of the annotated MNIST example. You can revisit\n",
        "the same example, but structured differently as a couple of Python modules, test\n",
        "modules, config files, another Colab, and documentation in Flax's Git repo:\n",
        "\n",
        "[https://github.com/google/flax/tree/main/examples/mnist](https://github.com/google/flax/tree/main/examples/mnist)"
      ]
    }
  ],
  "metadata": {
    "jupytext": {
      "formats": "ipynb,md:myst",
      "main_language": "python"
    },
    "language_info": {
      "name": "python"
    },
    "colab": {
      "provenance": []
    },
    "kernelspec": {
      "name": "python3",
      "display_name": "Python 3"
    },
    "widgets": {
      "application/vnd.jupyter.widget-state+json": {
        "2f573fca3ec040f199a3bc24b95af9fa": {
          "model_module": "@jupyter-widgets/controls",
          "model_name": "HBoxModel",
          "model_module_version": "1.5.0",
          "state": {
            "_dom_classes": [],
            "_model_module": "@jupyter-widgets/controls",
            "_model_module_version": "1.5.0",
            "_model_name": "HBoxModel",
            "_view_count": null,
            "_view_module": "@jupyter-widgets/controls",
            "_view_module_version": "1.5.0",
            "_view_name": "HBoxView",
            "box_style": "",
            "children": [
              "IPY_MODEL_b6eb89f80c5e4b67b161083527785211",
              "IPY_MODEL_f82df1fafe4541f38353c64fc4c74d1f",
              "IPY_MODEL_f1e0e3f42b764b8bac65b26f5f8116e0"
            ],
            "layout": "IPY_MODEL_115021e30f814d1ead6d942c70a49e71"
          }
        },
        "b6eb89f80c5e4b67b161083527785211": {
          "model_module": "@jupyter-widgets/controls",
          "model_name": "HTMLModel",
          "model_module_version": "1.5.0",
          "state": {
            "_dom_classes": [],
            "_model_module": "@jupyter-widgets/controls",
            "_model_module_version": "1.5.0",
            "_model_name": "HTMLModel",
            "_view_count": null,
            "_view_module": "@jupyter-widgets/controls",
            "_view_module_version": "1.5.0",
            "_view_name": "HTMLView",
            "description": "",
            "description_tooltip": null,
            "layout": "IPY_MODEL_f7bc61a52c404653947528dd536acebd",
            "placeholder": "​",
            "style": "IPY_MODEL_ba3b8375a3b742aeb222aa95905ed55f",
            "value": "Dl Completed...: 100%"
          }
        },
        "f82df1fafe4541f38353c64fc4c74d1f": {
          "model_module": "@jupyter-widgets/controls",
          "model_name": "FloatProgressModel",
          "model_module_version": "1.5.0",
          "state": {
            "_dom_classes": [],
            "_model_module": "@jupyter-widgets/controls",
            "_model_module_version": "1.5.0",
            "_model_name": "FloatProgressModel",
            "_view_count": null,
            "_view_module": "@jupyter-widgets/controls",
            "_view_module_version": "1.5.0",
            "_view_name": "ProgressView",
            "bar_style": "success",
            "description": "",
            "description_tooltip": null,
            "layout": "IPY_MODEL_234a9ea288ce413dae0561fac5ae2363",
            "max": 5,
            "min": 0,
            "orientation": "horizontal",
            "style": "IPY_MODEL_3bd7ac0b3375477bb5c587f0248a3f60",
            "value": 5
          }
        },
        "f1e0e3f42b764b8bac65b26f5f8116e0": {
          "model_module": "@jupyter-widgets/controls",
          "model_name": "HTMLModel",
          "model_module_version": "1.5.0",
          "state": {
            "_dom_classes": [],
            "_model_module": "@jupyter-widgets/controls",
            "_model_module_version": "1.5.0",
            "_model_name": "HTMLModel",
            "_view_count": null,
            "_view_module": "@jupyter-widgets/controls",
            "_view_module_version": "1.5.0",
            "_view_name": "HTMLView",
            "description": "",
            "description_tooltip": null,
            "layout": "IPY_MODEL_caa286ce65b24198b3c09b6c0955c752",
            "placeholder": "​",
            "style": "IPY_MODEL_d49bbf5a4cc8454f87ed73939e022836",
            "value": " 5/5 [00:00&lt;00:00,  6.53 file/s]"
          }
        },
        "115021e30f814d1ead6d942c70a49e71": {
          "model_module": "@jupyter-widgets/base",
          "model_name": "LayoutModel",
          "model_module_version": "1.2.0",
          "state": {
            "_model_module": "@jupyter-widgets/base",
            "_model_module_version": "1.2.0",
            "_model_name": "LayoutModel",
            "_view_count": null,
            "_view_module": "@jupyter-widgets/base",
            "_view_module_version": "1.2.0",
            "_view_name": "LayoutView",
            "align_content": null,
            "align_items": null,
            "align_self": null,
            "border": null,
            "bottom": null,
            "display": null,
            "flex": null,
            "flex_flow": null,
            "grid_area": null,
            "grid_auto_columns": null,
            "grid_auto_flow": null,
            "grid_auto_rows": null,
            "grid_column": null,
            "grid_gap": null,
            "grid_row": null,
            "grid_template_areas": null,
            "grid_template_columns": null,
            "grid_template_rows": null,
            "height": null,
            "justify_content": null,
            "justify_items": null,
            "left": null,
            "margin": null,
            "max_height": null,
            "max_width": null,
            "min_height": null,
            "min_width": null,
            "object_fit": null,
            "object_position": null,
            "order": null,
            "overflow": null,
            "overflow_x": null,
            "overflow_y": null,
            "padding": null,
            "right": null,
            "top": null,
            "visibility": null,
            "width": null
          }
        },
        "f7bc61a52c404653947528dd536acebd": {
          "model_module": "@jupyter-widgets/base",
          "model_name": "LayoutModel",
          "model_module_version": "1.2.0",
          "state": {
            "_model_module": "@jupyter-widgets/base",
            "_model_module_version": "1.2.0",
            "_model_name": "LayoutModel",
            "_view_count": null,
            "_view_module": "@jupyter-widgets/base",
            "_view_module_version": "1.2.0",
            "_view_name": "LayoutView",
            "align_content": null,
            "align_items": null,
            "align_self": null,
            "border": null,
            "bottom": null,
            "display": null,
            "flex": null,
            "flex_flow": null,
            "grid_area": null,
            "grid_auto_columns": null,
            "grid_auto_flow": null,
            "grid_auto_rows": null,
            "grid_column": null,
            "grid_gap": null,
            "grid_row": null,
            "grid_template_areas": null,
            "grid_template_columns": null,
            "grid_template_rows": null,
            "height": null,
            "justify_content": null,
            "justify_items": null,
            "left": null,
            "margin": null,
            "max_height": null,
            "max_width": null,
            "min_height": null,
            "min_width": null,
            "object_fit": null,
            "object_position": null,
            "order": null,
            "overflow": null,
            "overflow_x": null,
            "overflow_y": null,
            "padding": null,
            "right": null,
            "top": null,
            "visibility": null,
            "width": null
          }
        },
        "ba3b8375a3b742aeb222aa95905ed55f": {
          "model_module": "@jupyter-widgets/controls",
          "model_name": "DescriptionStyleModel",
          "model_module_version": "1.5.0",
          "state": {
            "_model_module": "@jupyter-widgets/controls",
            "_model_module_version": "1.5.0",
            "_model_name": "DescriptionStyleModel",
            "_view_count": null,
            "_view_module": "@jupyter-widgets/base",
            "_view_module_version": "1.2.0",
            "_view_name": "StyleView",
            "description_width": ""
          }
        },
        "234a9ea288ce413dae0561fac5ae2363": {
          "model_module": "@jupyter-widgets/base",
          "model_name": "LayoutModel",
          "model_module_version": "1.2.0",
          "state": {
            "_model_module": "@jupyter-widgets/base",
            "_model_module_version": "1.2.0",
            "_model_name": "LayoutModel",
            "_view_count": null,
            "_view_module": "@jupyter-widgets/base",
            "_view_module_version": "1.2.0",
            "_view_name": "LayoutView",
            "align_content": null,
            "align_items": null,
            "align_self": null,
            "border": null,
            "bottom": null,
            "display": null,
            "flex": null,
            "flex_flow": null,
            "grid_area": null,
            "grid_auto_columns": null,
            "grid_auto_flow": null,
            "grid_auto_rows": null,
            "grid_column": null,
            "grid_gap": null,
            "grid_row": null,
            "grid_template_areas": null,
            "grid_template_columns": null,
            "grid_template_rows": null,
            "height": null,
            "justify_content": null,
            "justify_items": null,
            "left": null,
            "margin": null,
            "max_height": null,
            "max_width": null,
            "min_height": null,
            "min_width": null,
            "object_fit": null,
            "object_position": null,
            "order": null,
            "overflow": null,
            "overflow_x": null,
            "overflow_y": null,
            "padding": null,
            "right": null,
            "top": null,
            "visibility": null,
            "width": null
          }
        },
        "3bd7ac0b3375477bb5c587f0248a3f60": {
          "model_module": "@jupyter-widgets/controls",
          "model_name": "ProgressStyleModel",
          "model_module_version": "1.5.0",
          "state": {
            "_model_module": "@jupyter-widgets/controls",
            "_model_module_version": "1.5.0",
            "_model_name": "ProgressStyleModel",
            "_view_count": null,
            "_view_module": "@jupyter-widgets/base",
            "_view_module_version": "1.2.0",
            "_view_name": "StyleView",
            "bar_color": null,
            "description_width": ""
          }
        },
        "caa286ce65b24198b3c09b6c0955c752": {
          "model_module": "@jupyter-widgets/base",
          "model_name": "LayoutModel",
          "model_module_version": "1.2.0",
          "state": {
            "_model_module": "@jupyter-widgets/base",
            "_model_module_version": "1.2.0",
            "_model_name": "LayoutModel",
            "_view_count": null,
            "_view_module": "@jupyter-widgets/base",
            "_view_module_version": "1.2.0",
            "_view_name": "LayoutView",
            "align_content": null,
            "align_items": null,
            "align_self": null,
            "border": null,
            "bottom": null,
            "display": null,
            "flex": null,
            "flex_flow": null,
            "grid_area": null,
            "grid_auto_columns": null,
            "grid_auto_flow": null,
            "grid_auto_rows": null,
            "grid_column": null,
            "grid_gap": null,
            "grid_row": null,
            "grid_template_areas": null,
            "grid_template_columns": null,
            "grid_template_rows": null,
            "height": null,
            "justify_content": null,
            "justify_items": null,
            "left": null,
            "margin": null,
            "max_height": null,
            "max_width": null,
            "min_height": null,
            "min_width": null,
            "object_fit": null,
            "object_position": null,
            "order": null,
            "overflow": null,
            "overflow_x": null,
            "overflow_y": null,
            "padding": null,
            "right": null,
            "top": null,
            "visibility": null,
            "width": null
          }
        },
        "d49bbf5a4cc8454f87ed73939e022836": {
          "model_module": "@jupyter-widgets/controls",
          "model_name": "DescriptionStyleModel",
          "model_module_version": "1.5.0",
          "state": {
            "_model_module": "@jupyter-widgets/controls",
            "_model_module_version": "1.5.0",
            "_model_name": "DescriptionStyleModel",
            "_view_count": null,
            "_view_module": "@jupyter-widgets/base",
            "_view_module_version": "1.2.0",
            "_view_name": "StyleView",
            "description_width": ""
          }
        }
      }
    }
  },
  "nbformat": 4,
  "nbformat_minor": 5
}